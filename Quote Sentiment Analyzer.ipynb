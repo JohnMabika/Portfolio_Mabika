{
 "cells": [
  {
   "cell_type": "code",
   "execution_count": null,
   "id": "5cdaca00-f0e1-44dd-a565-58895d2fe249",
   "metadata": {},
   "outputs": [],
   "source": [
    "!pip install requests beautifulsoup4 transformers torch --quiet\n",
    "\n",
    "import requests\n",
    "from bs4 import BeautifulSoup\n",
    "from transformers import pipeline\n",
    "\n",
    "url = \"http://quotes.toscrape.com/page/1/\"\n",
    "\n",
    "headers = {\n",
    "    \"User-Agent\": \"Mozilla/5.0 (Windows NT 10.0; Win64; x64) \"\n",
    "                  \"AppleWebKit/537.36 (KHTML, like Gecko) \"\n",
    "                  \"Chrome/90.0.4430.212 Safari/537.36\"\n",
    "}\n",
    "\n",
    "def get_quotes(url):\n",
    "    response = requests.get(url, headers=headers)\n",
    "    soup = BeautifulSoup(response.content, \"html.parser\")\n",
    "    quote_tags = soup.find_all(\"div\", class_=\"quote\")\n",
    "    quotes = [tag.find(\"span\", class_=\"text\").get_text(strip=True) for tag in quote_tags]\n",
    "    return quotes\n",
    "\n",
    "# Sentiment analysis pipeline\n",
    "classifier = pipeline(\"sentiment-analysis\")\n",
    "\n",
    "def sentiment_to_emoji(label):\n",
    "    return {\n",
    "        \"POSITIVE\": \"😊\",\n",
    "        \"NEGATIVE\": \"😠\"\n",
    "    }.get(label, \"😐\")\n",
    "\n",
    "quotes = get_quotes(url)\n",
    "print(f\"Total quotes scraped: {len(quotes)}\\n\")\n",
    "\n",
    "for i, quote in enumerate(quotes[:10], 1):  # first 10 quotes\n",
    "    result = classifier(quote)[0]\n",
    "    emoji = sentiment_to_emoji(result['label'])\n",
    "    print(f\"Quote {i}: {quote}\")\n",
    "    print(f\"Sentiment: {result['label']} {emoji}\")\n",
    "    print(\"-\"*80)\n",
    "\n"
   ]
  }
 ],
 "metadata": {
  "kernelspec": {
   "display_name": "Python [conda env:base] *",
   "language": "python",
   "name": "conda-base-py"
  },
  "language_info": {
   "codemirror_mode": {
    "name": "ipython",
    "version": 3
   },
   "file_extension": ".py",
   "mimetype": "text/x-python",
   "name": "python",
   "nbconvert_exporter": "python",
   "pygments_lexer": "ipython3",
   "version": "3.13.5"
  }
 },
 "nbformat": 4,
 "nbformat_minor": 5
}
